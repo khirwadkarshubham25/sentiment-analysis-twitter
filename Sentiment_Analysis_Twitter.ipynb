{
  "cells": [
    {
      "cell_type": "markdown",
      "metadata": {
        "id": "moral-avatar"
      },
      "source": [
        "### Importing Python Libraries"
      ],
      "id": "moral-avatar"
    },
    {
      "cell_type": "code",
      "execution_count": null,
      "metadata": {
        "colab": {
          "base_uri": "https://localhost:8080/"
        },
        "id": "necessary-active",
        "outputId": "96f8fc4f-fad0-4190-83cf-1af39fe6fa43",
        "scrolled": true
      },
      "outputs": [
        {
          "output_type": "stream",
          "name": "stderr",
          "text": [
            "[nltk_data] Downloading package stopwords to /root/nltk_data...\n",
            "[nltk_data]   Unzipping corpora/stopwords.zip.\n",
            "[nltk_data] Downloading package wordnet to /root/nltk_data...\n",
            "[nltk_data] Downloading package omw-1.4 to /root/nltk_data...\n"
          ]
        },
        {
          "output_type": "execute_result",
          "data": {
            "text/plain": [
              "True"
            ]
          },
          "metadata": {},
          "execution_count": 1
        }
      ],
      "source": [
        "import numpy as np \n",
        "import pandas as pd \n",
        "import seaborn as sns \n",
        "import matplotlib.pyplot as plt\n",
        "plt.style.use('ggplot')\n",
        "from sklearn.metrics import roc_curve, auc\n",
        "from sklearn.metrics import classification_report, confusion_matrix\n",
        "import nltk\n",
        "from nltk.corpus import stopwords\n",
        "from nltk.stem import PorterStemmer \n",
        "from sklearn.model_selection import train_test_split\n",
        "from mlxtend.plotting import plot_confusion_matrix\n",
        "import matplotlib.cm as cm\n",
        "from matplotlib import rcParams\n",
        "from collections import Counter\n",
        "from nltk.tokenize import RegexpTokenizer\n",
        "import re\n",
        "import string\n",
        "from tensorflow.keras.layers import LSTM, Activation, Dense, Dropout, Input, Embedding\n",
        "from tensorflow.keras.models import Model\n",
        "from tensorflow.keras.optimizers import RMSprop\n",
        "from tensorflow.keras.preprocessing.text import Tokenizer\n",
        "from tensorflow.keras.preprocessing import sequence\n",
        "%matplotlib inline\n",
        "\n",
        "import warnings\n",
        "warnings.filterwarnings(\"ignore\")\n",
        "nltk.download(\"stopwords\")\n",
        "nltk.download('wordnet')\n",
        "nltk.download('omw-1.4')"
      ],
      "id": "necessary-active"
    },
    {
      "cell_type": "markdown",
      "metadata": {
        "id": "unusual-gasoline"
      },
      "source": [
        "### Loading the data"
      ],
      "id": "unusual-gasoline"
    },
    {
      "cell_type": "code",
      "execution_count": null,
      "metadata": {
        "colab": {
          "base_uri": "https://localhost:8080/"
        },
        "id": "hawaiian-locking",
        "outputId": "46effd1d-3166-41fb-932e-4c1c297be9e0"
      },
      "outputs": [
        {
          "output_type": "stream",
          "name": "stdout",
          "text": [
            "Mounted at /content/drive\n",
            "/content/drive/MyDrive/Github\n"
          ]
        }
      ],
      "source": [
        "# Mount Google drive with Google Colab",
        "# from google.colab import drive\n",
        "# drive.mount('/content/drive')\n",
        "# %cd /content/drive/MyDrive/Github/\n",
        "data = pd.read_csv(\"training.1600000.processed.noemoticon.csv\", encoding=\"Latin\", header=None)\n",
        "data.columns = [\"label\", \"time\", \"date\", \"query\", \"username\", \"text\"]"
      ],
      "id": "hawaiian-locking"
    },
    {
      "cell_type": "markdown",
      "metadata": {
        "id": "fatal-friendship"
      },
      "source": [
        "### Exploratory Data"
      ],
      "id": "fatal-friendship"
    },
    {
      "cell_type": "markdown",
      "metadata": {
        "id": "periodic-twist"
      },
      "source": [
        "#### Five top records of data"
      ],
      "id": "periodic-twist"
    },
    {
      "cell_type": "code",
      "execution_count": null,
      "metadata": {
        "colab": {
          "base_uri": "https://localhost:8080/",
          "height": 206
        },
        "id": "broken-cathedral",
        "outputId": "6eeda81a-9d58-46c3-b326-4c5341296047"
      },
      "outputs": [
        {
          "output_type": "execute_result",
          "data": {
            "text/plain": [
              "   label        time                          date     query         username  \\\n",
              "0      0  1467810369  Mon Apr 06 22:19:45 PDT 2009  NO_QUERY  _TheSpecialOne_   \n",
              "1      0  1467810672  Mon Apr 06 22:19:49 PDT 2009  NO_QUERY    scotthamilton   \n",
              "2      0  1467810917  Mon Apr 06 22:19:53 PDT 2009  NO_QUERY         mattycus   \n",
              "3      0  1467811184  Mon Apr 06 22:19:57 PDT 2009  NO_QUERY          ElleCTF   \n",
              "4      0  1467811193  Mon Apr 06 22:19:57 PDT 2009  NO_QUERY           Karoli   \n",
              "\n",
              "                                                text  \n",
              "0  @switchfoot http://twitpic.com/2y1zl - Awww, t...  \n",
              "1  is upset that he can't update his Facebook by ...  \n",
              "2  @Kenichan I dived many times for the ball. Man...  \n",
              "3    my whole body feels itchy and like its on fire   \n",
              "4  @nationwideclass no, it's not behaving at all....  "
            ],
            "text/html": [
              "\n",
              "  <div id=\"df-a5e1d41b-3422-410d-b618-0a0911f151a3\">\n",
              "    <div class=\"colab-df-container\">\n",
              "      <div>\n",
              "<style scoped>\n",
              "    .dataframe tbody tr th:only-of-type {\n",
              "        vertical-align: middle;\n",
              "    }\n",
              "\n",
              "    .dataframe tbody tr th {\n",
              "        vertical-align: top;\n",
              "    }\n",
              "\n",
              "    .dataframe thead th {\n",
              "        text-align: right;\n",
              "    }\n",
              "</style>\n",
              "<table border=\"1\" class=\"dataframe\">\n",
              "  <thead>\n",
              "    <tr style=\"text-align: right;\">\n",
              "      <th></th>\n",
              "      <th>label</th>\n",
              "      <th>time</th>\n",
              "      <th>date</th>\n",
              "      <th>query</th>\n",
              "      <th>username</th>\n",
              "      <th>text</th>\n",
              "    </tr>\n",
              "  </thead>\n",
              "  <tbody>\n",
              "    <tr>\n",
              "      <th>0</th>\n",
              "      <td>0</td>\n",
              "      <td>1467810369</td>\n",
              "      <td>Mon Apr 06 22:19:45 PDT 2009</td>\n",
              "      <td>NO_QUERY</td>\n",
              "      <td>_TheSpecialOne_</td>\n",
              "      <td>@switchfoot http://twitpic.com/2y1zl - Awww, t...</td>\n",
              "    </tr>\n",
              "    <tr>\n",
              "      <th>1</th>\n",
              "      <td>0</td>\n",
              "      <td>1467810672</td>\n",
              "      <td>Mon Apr 06 22:19:49 PDT 2009</td>\n",
              "      <td>NO_QUERY</td>\n",
              "      <td>scotthamilton</td>\n",
              "      <td>is upset that he can't update his Facebook by ...</td>\n",
              "    </tr>\n",
              "    <tr>\n",
              "      <th>2</th>\n",
              "      <td>0</td>\n",
              "      <td>1467810917</td>\n",
              "      <td>Mon Apr 06 22:19:53 PDT 2009</td>\n",
              "      <td>NO_QUERY</td>\n",
              "      <td>mattycus</td>\n",
              "      <td>@Kenichan I dived many times for the ball. Man...</td>\n",
              "    </tr>\n",
              "    <tr>\n",
              "      <th>3</th>\n",
              "      <td>0</td>\n",
              "      <td>1467811184</td>\n",
              "      <td>Mon Apr 06 22:19:57 PDT 2009</td>\n",
              "      <td>NO_QUERY</td>\n",
              "      <td>ElleCTF</td>\n",
              "      <td>my whole body feels itchy and like its on fire</td>\n",
              "    </tr>\n",
              "    <tr>\n",
              "      <th>4</th>\n",
              "      <td>0</td>\n",
              "      <td>1467811193</td>\n",
              "      <td>Mon Apr 06 22:19:57 PDT 2009</td>\n",
              "      <td>NO_QUERY</td>\n",
              "      <td>Karoli</td>\n",
              "      <td>@nationwideclass no, it's not behaving at all....</td>\n",
              "    </tr>\n",
              "  </tbody>\n",
              "</table>\n",
              "</div>\n",
              "      <button class=\"colab-df-convert\" onclick=\"convertToInteractive('df-a5e1d41b-3422-410d-b618-0a0911f151a3')\"\n",
              "              title=\"Convert this dataframe to an interactive table.\"\n",
              "              style=\"display:none;\">\n",
              "        \n",
              "  <svg xmlns=\"http://www.w3.org/2000/svg\" height=\"24px\"viewBox=\"0 0 24 24\"\n",
              "       width=\"24px\">\n",
              "    <path d=\"M0 0h24v24H0V0z\" fill=\"none\"/>\n",
              "    <path d=\"M18.56 5.44l.94 2.06.94-2.06 2.06-.94-2.06-.94-.94-2.06-.94 2.06-2.06.94zm-11 1L8.5 8.5l.94-2.06 2.06-.94-2.06-.94L8.5 2.5l-.94 2.06-2.06.94zm10 10l.94 2.06.94-2.06 2.06-.94-2.06-.94-.94-2.06-.94 2.06-2.06.94z\"/><path d=\"M17.41 7.96l-1.37-1.37c-.4-.4-.92-.59-1.43-.59-.52 0-1.04.2-1.43.59L10.3 9.45l-7.72 7.72c-.78.78-.78 2.05 0 2.83L4 21.41c.39.39.9.59 1.41.59.51 0 1.02-.2 1.41-.59l7.78-7.78 2.81-2.81c.8-.78.8-2.07 0-2.86zM5.41 20L4 18.59l7.72-7.72 1.47 1.35L5.41 20z\"/>\n",
              "  </svg>\n",
              "      </button>\n",
              "      \n",
              "  <style>\n",
              "    .colab-df-container {\n",
              "      display:flex;\n",
              "      flex-wrap:wrap;\n",
              "      gap: 12px;\n",
              "    }\n",
              "\n",
              "    .colab-df-convert {\n",
              "      background-color: #E8F0FE;\n",
              "      border: none;\n",
              "      border-radius: 50%;\n",
              "      cursor: pointer;\n",
              "      display: none;\n",
              "      fill: #1967D2;\n",
              "      height: 32px;\n",
              "      padding: 0 0 0 0;\n",
              "      width: 32px;\n",
              "    }\n",
              "\n",
              "    .colab-df-convert:hover {\n",
              "      background-color: #E2EBFA;\n",
              "      box-shadow: 0px 1px 2px rgba(60, 64, 67, 0.3), 0px 1px 3px 1px rgba(60, 64, 67, 0.15);\n",
              "      fill: #174EA6;\n",
              "    }\n",
              "\n",
              "    [theme=dark] .colab-df-convert {\n",
              "      background-color: #3B4455;\n",
              "      fill: #D2E3FC;\n",
              "    }\n",
              "\n",
              "    [theme=dark] .colab-df-convert:hover {\n",
              "      background-color: #434B5C;\n",
              "      box-shadow: 0px 1px 3px 1px rgba(0, 0, 0, 0.15);\n",
              "      filter: drop-shadow(0px 1px 2px rgba(0, 0, 0, 0.3));\n",
              "      fill: #FFFFFF;\n",
              "    }\n",
              "  </style>\n",
              "\n",
              "      <script>\n",
              "        const buttonEl =\n",
              "          document.querySelector('#df-a5e1d41b-3422-410d-b618-0a0911f151a3 button.colab-df-convert');\n",
              "        buttonEl.style.display =\n",
              "          google.colab.kernel.accessAllowed ? 'block' : 'none';\n",
              "\n",
              "        async function convertToInteractive(key) {\n",
              "          const element = document.querySelector('#df-a5e1d41b-3422-410d-b618-0a0911f151a3');\n",
              "          const dataTable =\n",
              "            await google.colab.kernel.invokeFunction('convertToInteractive',\n",
              "                                                     [key], {});\n",
              "          if (!dataTable) return;\n",
              "\n",
              "          const docLinkHtml = 'Like what you see? Visit the ' +\n",
              "            '<a target=\"_blank\" href=https://colab.research.google.com/notebooks/data_table.ipynb>data table notebook</a>'\n",
              "            + ' to learn more about interactive tables.';\n",
              "          element.innerHTML = '';\n",
              "          dataTable['output_type'] = 'display_data';\n",
              "          await google.colab.output.renderOutput(dataTable, element);\n",
              "          const docLink = document.createElement('div');\n",
              "          docLink.innerHTML = docLinkHtml;\n",
              "          element.appendChild(docLink);\n",
              "        }\n",
              "      </script>\n",
              "    </div>\n",
              "  </div>\n",
              "  "
            ]
          },
          "metadata": {},
          "execution_count": 3
        }
      ],
      "source": [
        "data.head()"
      ],
      "id": "broken-cathedral"
    },
    {
      "cell_type": "markdown",
      "metadata": {
        "id": "racial-princess"
      },
      "source": [
        "#### Five last records of data"
      ],
      "id": "racial-princess"
    },
    {
      "cell_type": "code",
      "execution_count": null,
      "metadata": {
        "colab": {
          "base_uri": "https://localhost:8080/",
          "height": 206
        },
        "id": "boolean-pittsburgh",
        "outputId": "8b9d7568-930f-43c3-87ad-1ee864286339"
      },
      "outputs": [
        {
          "output_type": "execute_result",
          "data": {
            "text/plain": [
              "         label        time                          date     query  \\\n",
              "1599995      4  2193601966  Tue Jun 16 08:40:49 PDT 2009  NO_QUERY   \n",
              "1599996      4  2193601969  Tue Jun 16 08:40:49 PDT 2009  NO_QUERY   \n",
              "1599997      4  2193601991  Tue Jun 16 08:40:49 PDT 2009  NO_QUERY   \n",
              "1599998      4  2193602064  Tue Jun 16 08:40:49 PDT 2009  NO_QUERY   \n",
              "1599999      4  2193602129  Tue Jun 16 08:40:50 PDT 2009  NO_QUERY   \n",
              "\n",
              "                username                                               text  \n",
              "1599995  AmandaMarie1028  Just woke up. Having no school is the best fee...  \n",
              "1599996      TheWDBoards  TheWDB.com - Very cool to hear old Walt interv...  \n",
              "1599997           bpbabe  Are you ready for your MoJo Makeover? Ask me f...  \n",
              "1599998     tinydiamondz  Happy 38th Birthday to my boo of alll time!!! ...  \n",
              "1599999   RyanTrevMorris  happy #charitytuesday @theNSPCC @SparksCharity...  "
            ],
            "text/html": [
              "\n",
              "  <div id=\"df-a6a91abe-cffe-43ea-9310-418704e9dfc8\">\n",
              "    <div class=\"colab-df-container\">\n",
              "      <div>\n",
              "<style scoped>\n",
              "    .dataframe tbody tr th:only-of-type {\n",
              "        vertical-align: middle;\n",
              "    }\n",
              "\n",
              "    .dataframe tbody tr th {\n",
              "        vertical-align: top;\n",
              "    }\n",
              "\n",
              "    .dataframe thead th {\n",
              "        text-align: right;\n",
              "    }\n",
              "</style>\n",
              "<table border=\"1\" class=\"dataframe\">\n",
              "  <thead>\n",
              "    <tr style=\"text-align: right;\">\n",
              "      <th></th>\n",
              "      <th>label</th>\n",
              "      <th>time</th>\n",
              "      <th>date</th>\n",
              "      <th>query</th>\n",
              "      <th>username</th>\n",
              "      <th>text</th>\n",
              "    </tr>\n",
              "  </thead>\n",
              "  <tbody>\n",
              "    <tr>\n",
              "      <th>1599995</th>\n",
              "      <td>4</td>\n",
              "      <td>2193601966</td>\n",
              "      <td>Tue Jun 16 08:40:49 PDT 2009</td>\n",
              "      <td>NO_QUERY</td>\n",
              "      <td>AmandaMarie1028</td>\n",
              "      <td>Just woke up. Having no school is the best fee...</td>\n",
              "    </tr>\n",
              "    <tr>\n",
              "      <th>1599996</th>\n",
              "      <td>4</td>\n",
              "      <td>2193601969</td>\n",
              "      <td>Tue Jun 16 08:40:49 PDT 2009</td>\n",
              "      <td>NO_QUERY</td>\n",
              "      <td>TheWDBoards</td>\n",
              "      <td>TheWDB.com - Very cool to hear old Walt interv...</td>\n",
              "    </tr>\n",
              "    <tr>\n",
              "      <th>1599997</th>\n",
              "      <td>4</td>\n",
              "      <td>2193601991</td>\n",
              "      <td>Tue Jun 16 08:40:49 PDT 2009</td>\n",
              "      <td>NO_QUERY</td>\n",
              "      <td>bpbabe</td>\n",
              "      <td>Are you ready for your MoJo Makeover? Ask me f...</td>\n",
              "    </tr>\n",
              "    <tr>\n",
              "      <th>1599998</th>\n",
              "      <td>4</td>\n",
              "      <td>2193602064</td>\n",
              "      <td>Tue Jun 16 08:40:49 PDT 2009</td>\n",
              "      <td>NO_QUERY</td>\n",
              "      <td>tinydiamondz</td>\n",
              "      <td>Happy 38th Birthday to my boo of alll time!!! ...</td>\n",
              "    </tr>\n",
              "    <tr>\n",
              "      <th>1599999</th>\n",
              "      <td>4</td>\n",
              "      <td>2193602129</td>\n",
              "      <td>Tue Jun 16 08:40:50 PDT 2009</td>\n",
              "      <td>NO_QUERY</td>\n",
              "      <td>RyanTrevMorris</td>\n",
              "      <td>happy #charitytuesday @theNSPCC @SparksCharity...</td>\n",
              "    </tr>\n",
              "  </tbody>\n",
              "</table>\n",
              "</div>\n",
              "      <button class=\"colab-df-convert\" onclick=\"convertToInteractive('df-a6a91abe-cffe-43ea-9310-418704e9dfc8')\"\n",
              "              title=\"Convert this dataframe to an interactive table.\"\n",
              "              style=\"display:none;\">\n",
              "        \n",
              "  <svg xmlns=\"http://www.w3.org/2000/svg\" height=\"24px\"viewBox=\"0 0 24 24\"\n",
              "       width=\"24px\">\n",
              "    <path d=\"M0 0h24v24H0V0z\" fill=\"none\"/>\n",
              "    <path d=\"M18.56 5.44l.94 2.06.94-2.06 2.06-.94-2.06-.94-.94-2.06-.94 2.06-2.06.94zm-11 1L8.5 8.5l.94-2.06 2.06-.94-2.06-.94L8.5 2.5l-.94 2.06-2.06.94zm10 10l.94 2.06.94-2.06 2.06-.94-2.06-.94-.94-2.06-.94 2.06-2.06.94z\"/><path d=\"M17.41 7.96l-1.37-1.37c-.4-.4-.92-.59-1.43-.59-.52 0-1.04.2-1.43.59L10.3 9.45l-7.72 7.72c-.78.78-.78 2.05 0 2.83L4 21.41c.39.39.9.59 1.41.59.51 0 1.02-.2 1.41-.59l7.78-7.78 2.81-2.81c.8-.78.8-2.07 0-2.86zM5.41 20L4 18.59l7.72-7.72 1.47 1.35L5.41 20z\"/>\n",
              "  </svg>\n",
              "      </button>\n",
              "      \n",
              "  <style>\n",
              "    .colab-df-container {\n",
              "      display:flex;\n",
              "      flex-wrap:wrap;\n",
              "      gap: 12px;\n",
              "    }\n",
              "\n",
              "    .colab-df-convert {\n",
              "      background-color: #E8F0FE;\n",
              "      border: none;\n",
              "      border-radius: 50%;\n",
              "      cursor: pointer;\n",
              "      display: none;\n",
              "      fill: #1967D2;\n",
              "      height: 32px;\n",
              "      padding: 0 0 0 0;\n",
              "      width: 32px;\n",
              "    }\n",
              "\n",
              "    .colab-df-convert:hover {\n",
              "      background-color: #E2EBFA;\n",
              "      box-shadow: 0px 1px 2px rgba(60, 64, 67, 0.3), 0px 1px 3px 1px rgba(60, 64, 67, 0.15);\n",
              "      fill: #174EA6;\n",
              "    }\n",
              "\n",
              "    [theme=dark] .colab-df-convert {\n",
              "      background-color: #3B4455;\n",
              "      fill: #D2E3FC;\n",
              "    }\n",
              "\n",
              "    [theme=dark] .colab-df-convert:hover {\n",
              "      background-color: #434B5C;\n",
              "      box-shadow: 0px 1px 3px 1px rgba(0, 0, 0, 0.15);\n",
              "      filter: drop-shadow(0px 1px 2px rgba(0, 0, 0, 0.3));\n",
              "      fill: #FFFFFF;\n",
              "    }\n",
              "  </style>\n",
              "\n",
              "      <script>\n",
              "        const buttonEl =\n",
              "          document.querySelector('#df-a6a91abe-cffe-43ea-9310-418704e9dfc8 button.colab-df-convert');\n",
              "        buttonEl.style.display =\n",
              "          google.colab.kernel.accessAllowed ? 'block' : 'none';\n",
              "\n",
              "        async function convertToInteractive(key) {\n",
              "          const element = document.querySelector('#df-a6a91abe-cffe-43ea-9310-418704e9dfc8');\n",
              "          const dataTable =\n",
              "            await google.colab.kernel.invokeFunction('convertToInteractive',\n",
              "                                                     [key], {});\n",
              "          if (!dataTable) return;\n",
              "\n",
              "          const docLinkHtml = 'Like what you see? Visit the ' +\n",
              "            '<a target=\"_blank\" href=https://colab.research.google.com/notebooks/data_table.ipynb>data table notebook</a>'\n",
              "            + ' to learn more about interactive tables.';\n",
              "          element.innerHTML = '';\n",
              "          dataTable['output_type'] = 'display_data';\n",
              "          await google.colab.output.renderOutput(dataTable, element);\n",
              "          const docLink = document.createElement('div');\n",
              "          docLink.innerHTML = docLinkHtml;\n",
              "          element.appendChild(docLink);\n",
              "        }\n",
              "      </script>\n",
              "    </div>\n",
              "  </div>\n",
              "  "
            ]
          },
          "metadata": {},
          "execution_count": 4
        }
      ],
      "source": [
        "data.tail()"
      ],
      "id": "boolean-pittsburgh"
    },
    {
      "cell_type": "markdown",
      "metadata": {
        "id": "silver-jungle"
      },
      "source": [
        "#### Coloumns/features in data"
      ],
      "id": "silver-jungle"
    },
    {
      "cell_type": "code",
      "execution_count": null,
      "metadata": {
        "colab": {
          "base_uri": "https://localhost:8080/"
        },
        "id": "sustainable-theta",
        "outputId": "3f056eb0-205f-40b2-d93b-568f50cfceca"
      },
      "outputs": [
        {
          "output_type": "execute_result",
          "data": {
            "text/plain": [
              "Index(['label', 'time', 'date', 'query', 'username', 'text'], dtype='object')"
            ]
          },
          "metadata": {},
          "execution_count": 5
        }
      ],
      "source": [
        "data.columns"
      ],
      "id": "sustainable-theta"
    },
    {
      "cell_type": "markdown",
      "metadata": {
        "id": "obvious-north"
      },
      "source": [
        "#### Length of data"
      ],
      "id": "obvious-north"
    },
    {
      "cell_type": "code",
      "execution_count": null,
      "metadata": {
        "colab": {
          "base_uri": "https://localhost:8080/"
        },
        "id": "promotional-quebec",
        "outputId": "3beb9426-43e1-46e5-a0d9-561f7d0a4c5d"
      },
      "outputs": [
        {
          "output_type": "stream",
          "name": "stdout",
          "text": [
            "lenght of data is 1600000\n"
          ]
        }
      ],
      "source": [
        "print('lenght of data is', len(data))"
      ],
      "id": "promotional-quebec"
    },
    {
      "cell_type": "markdown",
      "metadata": {
        "id": "capital-pendant"
      },
      "source": [
        "#### Shape of data"
      ],
      "id": "capital-pendant"
    },
    {
      "cell_type": "code",
      "execution_count": null,
      "metadata": {
        "colab": {
          "base_uri": "https://localhost:8080/"
        },
        "id": "built-event",
        "outputId": "6e92f811-d042-4ec4-c762-5b56cc1bcbf8"
      },
      "outputs": [
        {
          "output_type": "execute_result",
          "data": {
            "text/plain": [
              "(1600000, 6)"
            ]
          },
          "metadata": {},
          "execution_count": 7
        }
      ],
      "source": [
        "data.shape"
      ],
      "id": "built-event"
    },
    {
      "cell_type": "markdown",
      "metadata": {
        "id": "fixed-rescue"
      },
      "source": [
        "#### Data information"
      ],
      "id": "fixed-rescue"
    },
    {
      "cell_type": "code",
      "execution_count": null,
      "metadata": {
        "colab": {
          "base_uri": "https://localhost:8080/"
        },
        "id": "entitled-radius",
        "outputId": "8be60867-773b-46f5-f2f1-3be0dd95c0d1"
      },
      "outputs": [
        {
          "output_type": "stream",
          "name": "stdout",
          "text": [
            "<class 'pandas.core.frame.DataFrame'>\n",
            "RangeIndex: 1600000 entries, 0 to 1599999\n",
            "Data columns (total 6 columns):\n",
            " #   Column    Non-Null Count    Dtype \n",
            "---  ------    --------------    ----- \n",
            " 0   label     1600000 non-null  int64 \n",
            " 1   time      1600000 non-null  int64 \n",
            " 2   date      1600000 non-null  object\n",
            " 3   query     1600000 non-null  object\n",
            " 4   username  1600000 non-null  object\n",
            " 5   text      1600000 non-null  object\n",
            "dtypes: int64(2), object(4)\n",
            "memory usage: 73.2+ MB\n"
          ]
        }
      ],
      "source": [
        "data.info()"
      ],
      "id": "entitled-radius"
    },
    {
      "cell_type": "markdown",
      "metadata": {
        "id": "auburn-algorithm"
      },
      "source": [
        "#### Data types of all coloumns"
      ],
      "id": "auburn-algorithm"
    },
    {
      "cell_type": "code",
      "execution_count": null,
      "metadata": {
        "colab": {
          "base_uri": "https://localhost:8080/"
        },
        "id": "stuffed-drain",
        "outputId": "6998ae09-905a-4545-f9ed-de6cd5e7fd8f"
      },
      "outputs": [
        {
          "output_type": "execute_result",
          "data": {
            "text/plain": [
              "label        int64\n",
              "time         int64\n",
              "date        object\n",
              "query       object\n",
              "username    object\n",
              "text        object\n",
              "dtype: object"
            ]
          },
          "metadata": {},
          "execution_count": 9
        }
      ],
      "source": [
        "data.dtypes"
      ],
      "id": "stuffed-drain"
    },
    {
      "cell_type": "markdown",
      "metadata": {
        "id": "external-stewart"
      },
      "source": [
        "#### Checking Null values"
      ],
      "id": "external-stewart"
    },
    {
      "cell_type": "code",
      "execution_count": null,
      "metadata": {
        "colab": {
          "base_uri": "https://localhost:8080/"
        },
        "id": "engaging-industry",
        "outputId": "339e1fbe-da97-4e2d-e040-2e1892b4b8da",
        "scrolled": true
      },
      "outputs": [
        {
          "output_type": "execute_result",
          "data": {
            "text/plain": [
              "0"
            ]
          },
          "metadata": {},
          "execution_count": 10
        }
      ],
      "source": [
        "np.sum(data.isnull().any(axis=1))"
      ],
      "id": "engaging-industry"
    },
    {
      "cell_type": "markdown",
      "metadata": {
        "id": "capital-transparency"
      },
      "source": [
        "#### Rows and columns in the dataset"
      ],
      "id": "capital-transparency"
    },
    {
      "cell_type": "code",
      "execution_count": null,
      "metadata": {
        "colab": {
          "base_uri": "https://localhost:8080/"
        },
        "id": "maritime-holmes",
        "outputId": "87d34084-4dca-4583-9729-410acead5cfa"
      },
      "outputs": [
        {
          "output_type": "stream",
          "name": "stdout",
          "text": [
            "Count of columns in the data is:   6\n"
          ]
        }
      ],
      "source": [
        "print('Count of columns in the data is:  ', len(data.columns))"
      ],
      "id": "maritime-holmes"
    },
    {
      "cell_type": "code",
      "execution_count": null,
      "metadata": {
        "colab": {
          "base_uri": "https://localhost:8080/"
        },
        "id": "painted-generator",
        "outputId": "0d8fdb69-025b-4a25-90c2-caaf33410e08"
      },
      "outputs": [
        {
          "output_type": "stream",
          "name": "stdout",
          "text": [
            "Count of rows in the data is:   1600000\n"
          ]
        }
      ],
      "source": [
        "print('Count of rows in the data is:  ', len(data))"
      ],
      "id": "painted-generator"
    },
    {
      "cell_type": "markdown",
      "metadata": {
        "id": "demonstrated-snake"
      },
      "source": [
        "### Data Preparation"
      ],
      "id": "demonstrated-snake"
    },
    {
      "cell_type": "markdown",
      "metadata": {
        "id": "peaceful-repository"
      },
      "source": [
        "#### Selecting the text and label coloumn"
      ],
      "id": "peaceful-repository"
    },
    {
      "cell_type": "code",
      "execution_count": null,
      "metadata": {
        "id": "charged-stamp"
      },
      "outputs": [],
      "source": [
        "data=data[['text','label']]"
      ],
      "id": "charged-stamp"
    },
    {
      "cell_type": "markdown",
      "metadata": {
        "id": "soviet-second"
      },
      "source": [
        "#### Assigning 1 to Positive sentment 4"
      ],
      "id": "soviet-second"
    },
    {
      "cell_type": "code",
      "execution_count": null,
      "metadata": {
        "id": "invalid-circular"
      },
      "outputs": [],
      "source": [
        "data['label'][data['label']==4]=1"
      ],
      "id": "invalid-circular"
    },
    {
      "cell_type": "markdown",
      "metadata": {
        "id": "impossible-cache"
      },
      "source": [
        "#### Making statement text in lower case"
      ],
      "id": "impossible-cache"
    },
    {
      "cell_type": "code",
      "execution_count": null,
      "metadata": {
        "id": "cutting-identity"
      },
      "outputs": [],
      "source": [
        "data['text']=data['text'].str.lower()"
      ],
      "id": "cutting-identity"
    },
    {
      "cell_type": "code",
      "execution_count": null,
      "metadata": {
        "colab": {
          "base_uri": "https://localhost:8080/"
        },
        "id": "medical-somalia",
        "outputId": "c8e2be62-d8b9-4148-c643-a4ab5f70877c"
      },
      "outputs": [
        {
          "output_type": "execute_result",
          "data": {
            "text/plain": [
              "1599995    just woke up. having no school is the best fee...\n",
              "1599996    thewdb.com - very cool to hear old walt interv...\n",
              "1599997    are you ready for your mojo makeover? ask me f...\n",
              "1599998    happy 38th birthday to my boo of alll time!!! ...\n",
              "1599999    happy #charitytuesday @thenspcc @sparkscharity...\n",
              "Name: text, dtype: object"
            ]
          },
          "metadata": {},
          "execution_count": 16
        }
      ],
      "source": [
        "data['text'].tail()"
      ],
      "id": "medical-somalia"
    },
    {
      "cell_type": "markdown",
      "metadata": {
        "id": "happy-window"
      },
      "source": [
        "#### Cleaning and removing Stop words of english"
      ],
      "id": "happy-window"
    },
    {
      "cell_type": "code",
      "execution_count": null,
      "metadata": {
        "colab": {
          "base_uri": "https://localhost:8080/",
          "height": 182
        },
        "id": "boring-selling",
        "outputId": "5bd873f8-eeb8-421b-b9d5-1b2512fc0214"
      },
      "outputs": [
        {
          "output_type": "execute_result",
          "data": {
            "text/plain": [
              "\"i, me, my, myself, we, our, ours, ourselves, you, you're, you've, you'll, you'd, your, yours, yourself, yourselves, he, him, his, himself, she, she's, her, hers, herself, it, it's, its, itself, they, them, their, theirs, themselves, what, which, who, whom, this, that, that'll, these, those, am, is, are, was, were, be, been, being, have, has, had, having, do, does, did, doing, a, an, the, and, but, if, or, because, as, until, while, of, at, by, for, with, about, against, between, into, through, during, before, after, above, below, to, from, up, down, in, out, on, off, over, under, again, further, then, once, here, there, when, where, why, how, all, any, both, each, few, more, most, other, some, such, no, nor, not, only, own, same, so, than, too, very, s, t, can, will, just, don, don't, should, should've, now, d, ll, m, o, re, ve, y, ain, aren, aren't, couldn, couldn't, didn, didn't, doesn, doesn't, hadn, hadn't, hasn, hasn't, haven, haven't, isn, isn't, ma, mightn, mightn't, mustn, mustn't, needn, needn't, shan, shan't, shouldn, shouldn't, wasn, wasn't, weren, weren't, won, won't, wouldn, wouldn't\""
            ],
            "application/vnd.google.colaboratory.intrinsic+json": {
              "type": "string"
            }
          },
          "metadata": {},
          "execution_count": 17
        }
      ],
      "source": [
        "stopwords_list = stopwords.words('english')\n",
        "\", \".join(stopwords.words('english'))"
      ],
      "id": "boring-selling"
    },
    {
      "cell_type": "markdown",
      "metadata": {
        "id": "royal-humor"
      },
      "source": [
        "#### Cleaning and removing the above stop words list from the tweet text"
      ],
      "id": "royal-humor"
    },
    {
      "cell_type": "code",
      "execution_count": null,
      "metadata": {
        "colab": {
          "base_uri": "https://localhost:8080/"
        },
        "id": "removable-tiger",
        "outputId": "0f4cdbed-fafc-4dc5-d1d0-be84f167b449"
      },
      "outputs": [
        {
          "output_type": "execute_result",
          "data": {
            "text/plain": [
              "0    @switchfoot http://twitpic.com/2y1zl - awww, t...\n",
              "1    upset can't update facebook texting it... migh...\n",
              "2    @kenichan dived many times ball. managed save ...\n",
              "3                     whole body feels itchy like fire\n",
              "4    @nationwideclass no, behaving all. i'm mad. he...\n",
              "Name: text, dtype: object"
            ]
          },
          "metadata": {},
          "execution_count": 18
        }
      ],
      "source": [
        "STOPWORDS = set(stopwords.words('english'))\n",
        "def cleaning_stopwords(text):\n",
        "    return \" \".join([word for word in str(text).split() if word not in STOPWORDS])\n",
        "data['text'] = data['text'].apply(lambda text: cleaning_stopwords(text))\n",
        "data['text'].head()"
      ],
      "id": "removable-tiger"
    },
    {
      "cell_type": "markdown",
      "metadata": {
        "id": "behavioral-listening"
      },
      "source": [
        "#### Cleaning and removing punctuations "
      ],
      "id": "behavioral-listening"
    },
    {
      "cell_type": "code",
      "execution_count": null,
      "metadata": {
        "id": "classical-daily"
      },
      "outputs": [],
      "source": [
        "english_punctuations = string.punctuation\n",
        "punctuations_list = english_punctuations\n",
        "def cleaning_punctuations(text):\n",
        "    translator = str.maketrans('', '', punctuations_list)\n",
        "    return text.translate(translator)"
      ],
      "id": "classical-daily"
    },
    {
      "cell_type": "code",
      "execution_count": null,
      "metadata": {
        "colab": {
          "base_uri": "https://localhost:8080/"
        },
        "id": "classified-construction",
        "outputId": "69d68753-a6f6-48a9-dd47-8ce1a5001a9d"
      },
      "outputs": [
        {
          "output_type": "execute_result",
          "data": {
            "text/plain": [
              "1599995                     woke up school best feeling ever\n",
              "1599996    thewdbcom  cool hear old walt interviews â« h...\n",
              "1599997                      ready mojo makeover ask details\n",
              "1599998    happy 38th birthday boo alll time tupac amaru ...\n",
              "1599999    happy charitytuesday thenspcc sparkscharity sp...\n",
              "Name: text, dtype: object"
            ]
          },
          "metadata": {},
          "execution_count": 20
        }
      ],
      "source": [
        "data['text']= data['text'].apply(lambda x: cleaning_punctuations(x))\n",
        "data['text'].tail()"
      ],
      "id": "classified-construction"
    },
    {
      "cell_type": "markdown",
      "metadata": {
        "id": "appreciated-proceeding"
      },
      "source": [
        "#### Cleaning and removing repeating characters"
      ],
      "id": "appreciated-proceeding"
    },
    {
      "cell_type": "code",
      "execution_count": null,
      "metadata": {
        "id": "overall-plate"
      },
      "outputs": [],
      "source": [
        "def cleaning_repeating_char(text):\n",
        "    return re.sub(r'(.)\\1+', r'\\1', text)"
      ],
      "id": "overall-plate"
    },
    {
      "cell_type": "code",
      "execution_count": null,
      "metadata": {
        "colab": {
          "base_uri": "https://localhost:8080/"
        },
        "id": "spanish-delta",
        "outputId": "38262d16-4e0f-4768-c617-07cdb12275ba"
      },
      "outputs": [
        {
          "output_type": "execute_result",
          "data": {
            "text/plain": [
              "1599995                       woke up schol best feling ever\n",
              "1599996    thewdbcom col hear old walt interviews â« htp...\n",
              "1599997                      ready mojo makeover ask details\n",
              "1599998     hapy 38th birthday bo al time tupac amaru shakur\n",
              "1599999    hapy charitytuesday thenspc sparkscharity spea...\n",
              "Name: text, dtype: object"
            ]
          },
          "metadata": {},
          "execution_count": 22
        }
      ],
      "source": [
        "data['text'] = data['text'].apply(lambda x: cleaning_repeating_char(x))\n",
        "data['text'].tail()"
      ],
      "id": "spanish-delta"
    },
    {
      "cell_type": "markdown",
      "metadata": {
        "id": "alike-ordinance"
      },
      "source": [
        "#### Cleaning and removing email"
      ],
      "id": "alike-ordinance"
    },
    {
      "cell_type": "code",
      "execution_count": null,
      "metadata": {
        "id": "ahead-bathroom"
      },
      "outputs": [],
      "source": [
        "def cleaning_email(data):\n",
        "    return re.sub('@[^\\s]+', ' ', data)"
      ],
      "id": "ahead-bathroom"
    },
    {
      "cell_type": "code",
      "execution_count": null,
      "metadata": {
        "colab": {
          "base_uri": "https://localhost:8080/"
        },
        "id": "aquatic-collect",
        "outputId": "2db6ce58-05d0-4dcd-8c0f-a8ed1f2bddeb"
      },
      "outputs": [
        {
          "output_type": "execute_result",
          "data": {
            "text/plain": [
              "1599995                       woke up schol best feling ever\n",
              "1599996    thewdbcom col hear old walt interviews â« htp...\n",
              "1599997                      ready mojo makeover ask details\n",
              "1599998     hapy 38th birthday bo al time tupac amaru shakur\n",
              "1599999    hapy charitytuesday thenspc sparkscharity spea...\n",
              "Name: text, dtype: object"
            ]
          },
          "metadata": {},
          "execution_count": 24
        }
      ],
      "source": [
        "data['text']= data['text'].apply(lambda x: cleaning_email(x))\n",
        "data['text'].tail()"
      ],
      "id": "aquatic-collect"
    },
    {
      "cell_type": "markdown",
      "metadata": {
        "id": "amazing-liechtenstein"
      },
      "source": [
        "#### Cleaning and removing URL's"
      ],
      "id": "amazing-liechtenstein"
    },
    {
      "cell_type": "code",
      "execution_count": null,
      "metadata": {
        "id": "jewish-stopping"
      },
      "outputs": [],
      "source": [
        "def cleaning_URLs(data):\n",
        "    return re.sub('((www\\.[^\\s]+)|(https?://[^\\s]+))',' ',data)"
      ],
      "id": "jewish-stopping"
    },
    {
      "cell_type": "code",
      "execution_count": null,
      "metadata": {
        "colab": {
          "base_uri": "https://localhost:8080/"
        },
        "id": "vocal-hanging",
        "outputId": "c08b2d3f-8819-4905-fc2a-47568390ccb9"
      },
      "outputs": [
        {
          "output_type": "execute_result",
          "data": {
            "text/plain": [
              "1599995                       woke up schol best feling ever\n",
              "1599996    thewdbcom col hear old walt interviews â« htp...\n",
              "1599997                      ready mojo makeover ask details\n",
              "1599998     hapy 38th birthday bo al time tupac amaru shakur\n",
              "1599999    hapy charitytuesday thenspc sparkscharity spea...\n",
              "Name: text, dtype: object"
            ]
          },
          "metadata": {},
          "execution_count": 26
        }
      ],
      "source": [
        "data['text'] = data['text'].apply(lambda x: cleaning_URLs(x))\n",
        "data['text'].tail()"
      ],
      "id": "vocal-hanging"
    },
    {
      "cell_type": "markdown",
      "metadata": {
        "id": "baking-infection"
      },
      "source": [
        "#### Cleaning and removing Numeric numbers"
      ],
      "id": "baking-infection"
    },
    {
      "cell_type": "code",
      "execution_count": null,
      "metadata": {
        "id": "boolean-insulin"
      },
      "outputs": [],
      "source": [
        "def cleaning_numbers(data):\n",
        "    return re.sub('[0-9]+', '', data)"
      ],
      "id": "boolean-insulin"
    },
    {
      "cell_type": "code",
      "execution_count": null,
      "metadata": {
        "colab": {
          "base_uri": "https://localhost:8080/"
        },
        "id": "confidential-reform",
        "outputId": "50f33e39-7ca5-4b07-dee0-81637b890ae4"
      },
      "outputs": [
        {
          "output_type": "execute_result",
          "data": {
            "text/plain": [
              "1599995                       woke up schol best feling ever\n",
              "1599996    thewdbcom col hear old walt interviews â« htp...\n",
              "1599997                      ready mojo makeover ask details\n",
              "1599998       hapy th birthday bo al time tupac amaru shakur\n",
              "1599999    hapy charitytuesday thenspc sparkscharity spea...\n",
              "Name: text, dtype: object"
            ]
          },
          "metadata": {},
          "execution_count": 28
        }
      ],
      "source": [
        "data['text'] = data['text'].apply(lambda x: cleaning_numbers(x))\n",
        "data['text'].tail()"
      ],
      "id": "confidential-reform"
    },
    {
      "cell_type": "markdown",
      "metadata": {
        "id": "democratic-guess"
      },
      "source": [
        "#### Getting tokenization of tweet text"
      ],
      "id": "democratic-guess"
    },
    {
      "cell_type": "code",
      "execution_count": null,
      "metadata": {
        "id": "removed-shopper"
      },
      "outputs": [],
      "source": [
        "tokenizer = RegexpTokenizer(r'\\w+')\n",
        "data['text'] = data['text'].apply(tokenizer.tokenize)"
      ],
      "id": "removed-shopper"
    },
    {
      "cell_type": "code",
      "execution_count": null,
      "metadata": {
        "colab": {
          "base_uri": "https://localhost:8080/"
        },
        "id": "multiple-arctic",
        "outputId": "fbee1893-548e-42c8-e075-74916ad30ffa"
      },
      "outputs": [
        {
          "output_type": "execute_result",
          "data": {
            "text/plain": [
              "0    [switchfot, htptwitpicomyzl, aw, thats, bumer,...\n",
              "1    [upset, cant, update, facebok, texting, it, mi...\n",
              "2    [kenichan, dived, many, times, bal, managed, s...\n",
              "3               [whole, body, fels, itchy, like, fire]\n",
              "4    [nationwideclas, no, behaving, al, im, mad, he...\n",
              "Name: text, dtype: object"
            ]
          },
          "metadata": {},
          "execution_count": 30
        }
      ],
      "source": [
        "data['text'].head()"
      ],
      "id": "multiple-arctic"
    },
    {
      "cell_type": "markdown",
      "metadata": {
        "id": "married-legend"
      },
      "source": [
        "#### Applying Stemming"
      ],
      "id": "married-legend"
    },
    {
      "cell_type": "code",
      "execution_count": null,
      "metadata": {
        "id": "interior-andrew"
      },
      "outputs": [],
      "source": [
        "st = nltk.PorterStemmer()\n",
        "def stemming_on_text(data):\n",
        "    text = [st.stem(word) for word in data]\n",
        "    return text\n",
        "\n",
        "data['text']= data['text'].apply(lambda x: stemming_on_text(x))"
      ],
      "id": "interior-andrew"
    },
    {
      "cell_type": "code",
      "execution_count": null,
      "metadata": {
        "colab": {
          "base_uri": "https://localhost:8080/"
        },
        "id": "light-meeting",
        "outputId": "c3d1dcf3-0f05-48c5-b780-14a2828f6a59"
      },
      "outputs": [
        {
          "output_type": "execute_result",
          "data": {
            "text/plain": [
              "0    [switchfot, htptwitpicomyzl, aw, that, bumer, ...\n",
              "1    [upset, cant, updat, facebok, text, it, might,...\n",
              "2    [kenichan, dive, mani, time, bal, manag, save,...\n",
              "3                [whole, bodi, fel, itchi, like, fire]\n",
              "4    [nationwidecla, no, behav, al, im, mad, here, ...\n",
              "Name: text, dtype: object"
            ]
          },
          "metadata": {},
          "execution_count": 32
        }
      ],
      "source": [
        "data['text'].head()"
      ],
      "id": "light-meeting"
    },
    {
      "cell_type": "markdown",
      "metadata": {
        "id": "parental-polls"
      },
      "source": [
        "#### Applying Lemmatizer"
      ],
      "id": "parental-polls"
    },
    {
      "cell_type": "code",
      "execution_count": null,
      "metadata": {
        "id": "passing-sugar"
      },
      "outputs": [],
      "source": [
        "lm = nltk.WordNetLemmatizer()\n",
        "def lemmatizer_on_text(data):\n",
        "    text = [lm.lemmatize(word) for word in data]\n",
        "    return text\n",
        "\n",
        "data['text'] = data['text'].apply(lambda x: lemmatizer_on_text(x))"
      ],
      "id": "passing-sugar"
    },
    {
      "cell_type": "code",
      "execution_count": null,
      "metadata": {
        "colab": {
          "base_uri": "https://localhost:8080/"
        },
        "id": "informative-relevance",
        "outputId": "f3c04c48-186a-4d9b-d566-5dda0f2f56d3"
      },
      "outputs": [
        {
          "output_type": "execute_result",
          "data": {
            "text/plain": [
              "0    [switchfot, htptwitpicomyzl, aw, that, bumer, ...\n",
              "1    [upset, cant, updat, facebok, text, it, might,...\n",
              "2    [kenichan, dive, mani, time, bal, manag, save,...\n",
              "3                [whole, bodi, fel, itchi, like, fire]\n",
              "4    [nationwidecla, no, behav, al, im, mad, here, ...\n",
              "Name: text, dtype: object"
            ]
          },
          "metadata": {},
          "execution_count": 34
        }
      ],
      "source": [
        "data['text'].head()"
      ],
      "id": "informative-relevance"
    },
    {
      "cell_type": "markdown",
      "metadata": {
        "id": "intended-method"
      },
      "source": [
        "<b> <h3> Labels : </h3></b>  labels are the targets like in this project senitments of the tweets are labels. "
      ],
      "id": "intended-method"
    },
    {
      "cell_type": "markdown",
      "metadata": {
        "id": "renewable-juvenile"
      },
      "source": [
        "<b> <h3> Inputs : </h3></b>  Inputs are the data that we feed into machine learning like in this project tweets texts are the inputs. "
      ],
      "id": "renewable-juvenile"
    },
    {
      "cell_type": "markdown",
      "metadata": {
        "id": "disabled-funds"
      },
      "source": [
        "<b> <h3> Training Data </h3></b>  We use training data when we train the models. We feed train data to machine learning and deep learning models so that model can learn from the data."
      ],
      "id": "disabled-funds"
    },
    {
      "cell_type": "markdown",
      "metadata": {
        "id": "involved-parker"
      },
      "source": [
        "<b> <h3> Validation Data </h3></b>  We use validation data while training the model. We use this data to evalaute the performance that how the model perform on training time."
      ],
      "id": "involved-parker"
    },
    {
      "cell_type": "markdown",
      "metadata": {
        "id": "tough-mapping"
      },
      "source": [
        "<b> <h3> Testing Data </h3></b>  We use testing data after training the model. We use this data to evalaute the performance that how the model perform after training. So in this way first we get predictions from the trained model without giving the labels and then we compare the true labels with predictions and get the performance of th model.."
      ],
      "id": "tough-mapping"
    },
    {
      "cell_type": "markdown",
      "metadata": {
        "id": "sought-offense"
      },
      "source": [
        "####  Separating input feature and label"
      ],
      "id": "sought-offense"
    },
    {
      "cell_type": "code",
      "execution_count": null,
      "metadata": {
        "id": "applicable-trinity"
      },
      "outputs": [],
      "source": [
        "X=data.text\n",
        "y=data.label"
      ],
      "id": "applicable-trinity"
    },
    {
      "cell_type": "markdown",
      "metadata": {
        "id": "second-outreach"
      },
      "source": [
        "#### Preparing the input features for training"
      ],
      "id": "second-outreach"
    },
    {
      "cell_type": "code",
      "execution_count": null,
      "metadata": {
        "id": "clinical-gather"
      },
      "outputs": [],
      "source": [
        "max_len = 500\n",
        "tok = Tokenizer(num_words=5000)\n",
        "tok.fit_on_texts(X)\n",
        "sequences = tok.texts_to_sequences(X)\n",
        "sequences_matrix = sequence.pad_sequences(sequences,maxlen=max_len)"
      ],
      "id": "clinical-gather"
    },
    {
      "cell_type": "code",
      "execution_count": null,
      "metadata": {
        "colab": {
          "base_uri": "https://localhost:8080/"
        },
        "id": "massive-italic",
        "outputId": "a94558e6-20df-418c-f3aa-e5d95f67134f"
      },
      "outputs": [
        {
          "output_type": "execute_result",
          "data": {
            "text/plain": [
              "(1600000, 500)"
            ]
          },
          "metadata": {},
          "execution_count": 37
        }
      ],
      "source": [
        "sequences_matrix.shape"
      ],
      "id": "massive-italic"
    },
    {
      "cell_type": "code",
      "execution_count": null,
      "metadata": {
        "id": "binary-ready"
      },
      "outputs": [],
      "source": [
        "X_train, X_test, Y_train, Y_test = train_test_split(sequences_matrix, y, test_size=0.3, random_state=2)"
      ],
      "id": "binary-ready"
    },
    {
      "cell_type": "markdown",
      "metadata": {
        "id": "stupid-parker"
      },
      "source": [
        "### Implementing Tensorflow based model for training"
      ],
      "id": "stupid-parker"
    },
    {
      "cell_type": "code",
      "execution_count": null,
      "metadata": {
        "id": "packed-album"
      },
      "outputs": [],
      "source": [
        "def tensorflow_based_model(): #Defined tensorflow_based_model function for training tenforflow based model\n",
        "    inputs = Input(name='inputs',shape=[max_len])#step1\n",
        "    layer = Embedding(5000,50,input_length=max_len)(inputs) #step2\n",
        "    layer = LSTM(64)(layer) #step3\n",
        "    layer = Dense(256,name='FC1')(layer) #step4\n",
        "    layer = Activation('relu')(layer) # step5\n",
        "    layer = Dropout(0.5)(layer) # step6\n",
        "    layer = Dense(1,name='out_layer')(layer) #step4 again but this time its giving only one output as because we need to classify the tweet as positive or negative\n",
        "    layer = Activation('sigmoid')(layer) #step5 but this time activation function is sigmoid for only one output.\n",
        "    model = Model(inputs=inputs,outputs=layer) #here we are getting the final output value in the model for classification\n",
        "    return model #function returning the value when we call it"
      ],
      "id": "packed-album"
    },
    {
      "cell_type": "markdown",
      "metadata": {
        "id": "running-sellers"
      },
      "source": [
        "### Model compilation"
      ],
      "id": "running-sellers"
    },
    {
      "cell_type": "code",
      "execution_count": null,
      "metadata": {
        "colab": {
          "base_uri": "https://localhost:8080/"
        },
        "id": "italic-reconstruction",
        "outputId": "188169e0-ae3c-448c-91a6-a60c0c1f76d8"
      },
      "outputs": [
        {
          "output_type": "stream",
          "name": "stdout",
          "text": [
            "Model: \"model\"\n",
            "_________________________________________________________________\n",
            " Layer (type)                Output Shape              Param #   \n",
            "=================================================================\n",
            " inputs (InputLayer)         [(None, 500)]             0         \n",
            "                                                                 \n",
            " embedding (Embedding)       (None, 500, 50)           250000    \n",
            "                                                                 \n",
            " lstm (LSTM)                 (None, 64)                29440     \n",
            "                                                                 \n",
            " FC1 (Dense)                 (None, 256)               16640     \n",
            "                                                                 \n",
            " activation (Activation)     (None, 256)               0         \n",
            "                                                                 \n",
            " dropout (Dropout)           (None, 256)               0         \n",
            "                                                                 \n",
            " out_layer (Dense)           (None, 1)                 257       \n",
            "                                                                 \n",
            " activation_1 (Activation)   (None, 1)                 0         \n",
            "                                                                 \n",
            "=================================================================\n",
            "Total params: 296,337\n",
            "Trainable params: 296,337\n",
            "Non-trainable params: 0\n",
            "_________________________________________________________________\n"
          ]
        }
      ],
      "source": [
        "model = tensorflow_based_model()\n",
        "model.compile(loss='binary_crossentropy',optimizer=RMSprop(),metrics=['accuracy'])\n",
        "model.summary()"
      ],
      "id": "italic-reconstruction"
    },
    {
      "cell_type": "markdown",
      "metadata": {
        "id": "consolidated-curtis"
      },
      "source": [
        "### Training and validating with parameter tuning"
      ],
      "id": "consolidated-curtis"
    },
    {
      "cell_type": "code",
      "execution_count": null,
      "metadata": {
        "colab": {
          "base_uri": "https://localhost:8080/"
        },
        "id": "metric-stereo",
        "outputId": "384ceaca-e710-44c8-bb70-2d0561114632"
      },
      "outputs": [
        {
          "output_type": "stream",
          "name": "stdout",
          "text": [
            "Epoch 1/10\n",
            "896/896 [==============================] - 80s 82ms/step - loss: 0.4896 - accuracy: 0.7624 - val_loss: 0.4701 - val_accuracy: 0.7743\n",
            "Epoch 2/10\n",
            "896/896 [==============================] - 74s 83ms/step - loss: 0.4669 - accuracy: 0.7768 - val_loss: 0.4624 - val_accuracy: 0.7791\n",
            "Epoch 3/10\n",
            "896/896 [==============================] - 74s 83ms/step - loss: 0.4576 - accuracy: 0.7826 - val_loss: 0.4575 - val_accuracy: 0.7819\n",
            "Epoch 4/10\n",
            "896/896 [==============================] - 69s 77ms/step - loss: 0.4513 - accuracy: 0.7863 - val_loss: 0.4553 - val_accuracy: 0.7842\n",
            "Epoch 5/10\n",
            "896/896 [==============================] - 69s 77ms/step - loss: 0.4470 - accuracy: 0.7892 - val_loss: 0.4531 - val_accuracy: 0.7847\n",
            "Epoch 6/10\n",
            "896/896 [==============================] - 74s 83ms/step - loss: 0.4428 - accuracy: 0.7916 - val_loss: 0.4527 - val_accuracy: 0.7852\n",
            "Epoch 7/10\n",
            "896/896 [==============================] - 69s 78ms/step - loss: 0.4387 - accuracy: 0.7939 - val_loss: 0.4511 - val_accuracy: 0.7860\n",
            "Epoch 8/10\n",
            "896/896 [==============================] - 69s 77ms/step - loss: 0.4351 - accuracy: 0.7965 - val_loss: 0.4538 - val_accuracy: 0.7841\n",
            "Epoch 9/10\n",
            "896/896 [==============================] - 69s 77ms/step - loss: 0.4317 - accuracy: 0.7981 - val_loss: 0.4528 - val_accuracy: 0.7863\n",
            "Epoch 10/10\n",
            "896/896 [==============================] - 74s 83ms/step - loss: 0.4283 - accuracy: 0.8007 - val_loss: 0.4529 - val_accuracy: 0.7846\n",
            "Training finished !!\n"
          ]
        }
      ],
      "source": [
        "history=model.fit(X_train,Y_train,batch_size=1000,epochs=10, validation_split=0.2)# here we are starting the training of model by feeding the training data\n",
        "print('Training finished !!')"
      ],
      "id": "metric-stereo"
    },
    {
      "cell_type": "markdown",
      "metadata": {
        "id": "correct-creature"
      },
      "source": [
        "### Testing the Trained model on test data"
      ],
      "id": "correct-creature"
    },
    {
      "cell_type": "code",
      "execution_count": null,
      "metadata": {
        "colab": {
          "base_uri": "https://localhost:8080/"
        },
        "id": "early-lying",
        "outputId": "8f933fbd-1ccc-4527-f6c8-d65a31919480"
      },
      "outputs": [
        {
          "output_type": "stream",
          "name": "stdout",
          "text": [
            "15000/15000 [==============================] - 135s 9ms/step - loss: 0.4542 - accuracy: 0.7844\n"
          ]
        }
      ],
      "source": [
        "accr1 = model.evaluate(X_test, Y_test)"
      ],
      "id": "early-lying"
    },
    {
      "cell_type": "markdown",
      "metadata": {
        "id": "played-explosion"
      },
      "source": [
        "#### Accuracy"
      ],
      "id": "played-explosion"
    },
    {
      "cell_type": "code",
      "execution_count": null,
      "metadata": {
        "colab": {
          "base_uri": "https://localhost:8080/"
        },
        "id": "optical-lloyd",
        "outputId": "863ce62c-5bac-4326-9d5f-de5c03a0bf70"
      },
      "outputs": [
        {
          "output_type": "stream",
          "name": "stdout",
          "text": [
            "Test set\n",
            "  Accuracy: 0.78\n"
          ]
        }
      ],
      "source": [
        "print('Test set\\n  Accuracy: {:0.2f}'.format(accr1[1]))"
      ],
      "id": "optical-lloyd"
    },
    {
      "cell_type": "markdown",
      "metadata": {
        "id": "rolled-burden"
      },
      "source": [
        "### Prediction"
      ],
      "id": "rolled-burden"
    },
    {
      "cell_type": "code",
      "execution_count": null,
      "metadata": {
        "colab": {
          "base_uri": "https://localhost:8080/"
        },
        "id": "ordered-reader",
        "outputId": "a12508cf-1c4c-4073-8b2b-955102156a4e"
      },
      "outputs": [
        {
          "output_type": "stream",
          "name": "stdout",
          "text": [
            "15000/15000 [==============================] - 117s 8ms/step\n"
          ]
        }
      ],
      "source": [
        "y_pred = model.predict(X_test)\n",
        "y_pred = (y_pred > 0.5) "
      ],
      "id": "ordered-reader"
    },
    {
      "cell_type": "markdown",
      "metadata": {
        "id": "compliant-latvia"
      },
      "source": [
        "### Confusion matrix"
      ],
      "id": "compliant-latvia"
    },
    {
      "cell_type": "code",
      "execution_count": null,
      "metadata": {
        "colab": {
          "base_uri": "https://localhost:8080/",
          "height": 738
        },
        "id": "prostate-egyptian",
        "outputId": "1bf01ddb-5cbc-409d-fb62-89631f940bf1"
      },
      "outputs": [
        {
          "output_type": "stream",
          "name": "stdout",
          "text": [
            "\n",
            "\n",
            "confusion matrix\n",
            "\n",
            "\n",
            "[[192706  47016]\n",
            " [ 56484 183794]]\n",
            "\n",
            "\n"
          ]
        },
        {
          "output_type": "display_data",
          "data": {
            "text/plain": [
              "<Figure size 720x720 with 2 Axes>"
            ],
            "image/png": "[encoded data removed]"
          },
          "metadata": {
            "needs_background": "light"
          }
        }
      ],
      "source": [
        "print('\\n')\n",
        "print(\"confusion matrix\")\n",
        "print('\\n')\n",
        "CR=confusion_matrix(Y_test, y_pred)\n",
        "print(CR)\n",
        "print('\\n')\n",
        "\n",
        "fig, ax = plot_confusion_matrix(conf_mat=CR,figsize=(10, 10),\n",
        "                                show_absolute=True,\n",
        "                                show_normed=True,\n",
        "                                colorbar=True)\n",
        "plt.show()"
      ],
      "id": "prostate-egyptian"
    },
    {
      "cell_type": "markdown",
      "metadata": {
        "id": "checked-disorder"
      },
      "source": [
        "### ROC CURVE"
      ],
      "id": "checked-disorder"
    },
    {
      "cell_type": "code",
      "execution_count": null,
      "metadata": {
        "colab": {
          "base_uri": "https://localhost:8080/",
          "height": 299
        },
        "id": "worthy-discharge",
        "scrolled": true,
        "outputId": "4c476e60-392a-463e-96db-a9696b3e4c92"
      },
      "outputs": [
        {
          "output_type": "display_data",
          "data": {
            "text/plain": [
              "<Figure size 432x288 with 1 Axes>"
            ],
            "image/png": "[encoded data removed]"
          },
          "metadata": {
            "needs_background": "light"
          }
        }
      ],
      "source": [
        "fpr, tpr, thresholds = roc_curve(Y_test, y_pred)\n",
        "roc_auc = auc(fpr, tpr)\n",
        "plt.figure()\n",
        "plt.plot(fpr, tpr, color='darkorange', lw=1, label='ROC curve (area = %0.2f)' % roc_auc)\n",
        "plt.xlim([0.0, 1.0])\n",
        "plt.ylim([0.0, 1.05])\n",
        "plt.xlabel('False Positive Rate')\n",
        "plt.ylabel('True Positive Rate')\n",
        "plt.title('ROC CURVE')\n",
        "plt.legend(loc=\"lower right\")\n",
        "plt.show()"
      ],
      "id": "worthy-discharge"
    },
    {
      "cell_type": "markdown",
      "metadata": {
        "id": "x4Ds7NNMZii6"
      },
      "source": [
        "### Live Tweet Analysis"
      ],
      "id": "x4Ds7NNMZii6"
    },
    {
      "cell_type": "code",
      "execution_count": null,
      "metadata": {
        "id": "aopxPnueZmBt"
      },
      "outputs": [],
      "source": [
        "import tweepy as tw\n",
        "consumer_key = 'aUowjsNwWKBkYOaB4IfUmuceu'\n",
        "consumer_secret = 'XWMQ5KugBPRsID9WrxdrsD9R0ESxC5dSAv8ekIDkpow9118mDC'\n",
        "access_token = '3310223990-eEIqNbhaExlScN92ZcoP8KNTAjNvjiWGyiX4Mnv'\n",
        "access_token_secret = 'VEbf8Mrq8K2SeCZuBZEskADveOhkP5SZ0a9YCZCGxSXZh'\n",
        "auth = tw.OAuthHandler(consumer_key, consumer_secret)\n",
        "auth.set_access_token(access_token, access_token_secret)\n",
        "api = tw.API(auth)"
      ],
      "id": "aopxPnueZmBt"
    },
    {
      "cell_type": "code",
      "execution_count": null,
      "metadata": {
        "id": "Mv4yrhzCcYAW"
      },
      "outputs": [],
      "source": [
        "def clean_live_tweets(text):\n",
        "  text = cleaning_stopwords(text)\n",
        "  text = cleaning_punctuations(text)\n",
        "  text = cleaning_repeating_char(text)\n",
        "  text = cleaning_email(text)\n",
        "  text = cleaning_URLs(text)\n",
        "  text = cleaning_numbers(text)\n",
        "  return text"
      ],
      "id": "Mv4yrhzCcYAW"
    },
    {
      "cell_type": "code",
      "execution_count": null,
      "metadata": {
        "id": "q9S0cA86UxMv",
        "colab": {
          "base_uri": "https://localhost:8080/",
          "height": 374
        },
        "outputId": "cff16b9d-30f9-48f1-a613-c1d1a63b725d"
      },
      "outputs": [
        {
          "output_type": "stream",
          "name": "stdout",
          "text": [
            "Number of Live tweets: 150\n",
            "Enter Topic name to find sentiments of tweets related to that topic: Modi\n",
            "5/5 [==============================] - 1s 12ms/step\n"
          ]
        },
        {
          "output_type": "display_data",
          "data": {
            "text/plain": [
              "<Figure size 1080x360 with 1 Axes>"
            ],
            "image/png": "[encoded data removed]"
          },
          "metadata": {
            "needs_background": "light"
          }
        }
      ],
      "source": [
        "number_of_tweets = int(input(\"Number of Live tweets: \"))\n",
        "topic = input('Enter Topic name to find sentiments of tweets related to that topic: ')\n",
        "\n",
        "try:\n",
        "    i, tweet_sentiment, x_values = 1, [], []\n",
        "    for tweet in tw.Cursor(api.search, q=topic + \" -filter:retweets\", lang=\"en\", ).items(number_of_tweets):\n",
        "        x_values.append(i)\n",
        "        tweet_sentiment.append(tweet.text.lower())\n",
        "        i += 1\n",
        "    df = pd.DataFrame(tweet_sentiment, columns=['tweets'])\n",
        "    df['tweets'] = df['tweets'].apply(lambda x: clean_live_tweets(x))\n",
        "    df['tweets'] = df['tweets'].apply(tokenizer.tokenize)\n",
        "    df['tweets'] = df['tweets'].apply(lambda x: stemming_on_text(x))\n",
        "    df['tweets'] = df['tweets'].apply(lambda x: lemmatizer_on_text(x))\n",
        "    sequences = tok.texts_to_sequences(df.tweets)\n",
        "    sequences_matrix = sequence.pad_sequences(sequences,maxlen=max_len)\n",
        "    y_pred = model.predict(sequences_matrix)\n",
        "    y_pred = (y_pred > 0.5)\n",
        "    plt.rcParams[\"figure.figsize\"]=15,5\n",
        "    plt.scatter(x_values, y_pred.tolist(), label=\"Positive or Negative\")\n",
        "    plt.plot(x_values, y_pred.tolist())\n",
        "    plt.legend()\n",
        "    plt.show()\n",
        "except KeyboardInterrupt:\n",
        "    print('Tweets Not Extracted')"
      ],
      "id": "q9S0cA86UxMv"
    }
  ],
  "metadata": {
    "accelerator": "GPU",
    "colab": {
      "provenance": []
    },
    "gpuClass": "standard",
    "kernelspec": {
      "display_name": "Python 3",
      "language": "python",
      "name": "python3"
    },
    "language_info": {
      "codemirror_mode": {
        "name": "ipython",
        "version": 3
      },
      "file_extension": ".py",
      "mimetype": "text/x-python",
      "name": "python",
      "nbconvert_exporter": "python",
      "pygments_lexer": "ipython3",
      "version": "3.7.9"
    },
    "papermill": {
      "default_parameters": {},
      "duration": 1066.843636,
      "end_time": "2022-12-10T19:05:41.148873",
      "environment_variables": {},
      "exception": null,
      "input_path": "__notebook__.ipynb",
      "output_path": "__notebook__.ipynb",
      "parameters": {},
      "start_time": "2022-12-10T18:47:54.305237",
      "version": "2.3.2"
    }
  },
  "nbformat": 4,
  "nbformat_minor": 5
}
